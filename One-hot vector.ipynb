{
 "cells": [
  {
   "cell_type": "markdown",
   "metadata": {},
   "source": [
    "# Load seed article"
   ]
  },
  {
   "cell_type": "code",
   "execution_count": 1,
   "metadata": {
    "collapsed": false
   },
   "outputs": [
    {
     "name": "stdout",
     "output_type": "stream",
     "text": [
      "Spanish papers had suggested that the Barcelona superstar's father had urged his son to quit the Nou Camp and move to the Premier League.  Manchester City are prepared to battle Manchester United for Barcelona star Neymar  And now the Express are reporting City are prepared to go head-to-head with United to sign the striker in a mega-money deal.  Keep up to date with all the latest news, gossip, rumours and done deals in SunSport's live transfer blog  Neymar Snr wants his Neymar Jr to move away from Barca in order to get out from under the shadow of Lionel Messi.  Messi has netted 35 goals this season with Luis Suarez on 28 and Neymar four behind on 24.  United have been linked with a swoop for Neymar over the past few seasons but Mourinho always thought the Brazilian would stay at Barca.\n"
     ]
    }
   ],
   "source": [
    "# Seed article\n",
    "seed = \"data/17-5-1\"\n",
    "\n",
    "with open(seed, 'r') as seedfile:\n",
    "    seeddata = seedfile.read().replace('\\n', ' ')\n",
    "    \n",
    "print(seeddata)"
   ]
  },
  {
   "cell_type": "markdown",
   "metadata": {},
   "source": [
    "# Extract chunks of candidate keyphrases\n",
    "\n",
    "Reference: http://bdewilde.github.io/blog/2014/09/23/intro-to-automatic-keyphrase-extraction/\n",
    "\n",
    "Note: We only get chunks that follow this pattern: (&lt;JJ&gt;\\* &lt;NN.\\*&gt;+ &lt;IN&gt;)? &lt;JJ&gt;\\* &lt;NN.\\*&gt;+"
   ]
  },
  {
   "cell_type": "code",
   "execution_count": 6,
   "metadata": {
    "collapsed": false
   },
   "outputs": [],
   "source": [
    "def keyword_extraction(text, grammar = r\"KT: {(<JJ>* <NN.*>+ <IN>)? <JJ>* <NN.*>+}\"):\n",
    "    import itertools, nltk, string\n",
    "    \n",
    "    # exclude candidates that are stop words or entirely punctuation\n",
    "    punct = set(string.punctuation)\n",
    "    stop_words = set(nltk.corpus.stopwords.words('english'))\n",
    "    \n",
    "    # tokenize, POS-tag, and chunk using regular expressions\n",
    "    chunker = nltk.chunk.regexp.RegexpParser(grammar)\n",
    "    tagged_sents = nltk.pos_tag_sents(nltk.word_tokenize(sent) for sent in nltk.sent_tokenize(text))\n",
    "    all_chunks = list(itertools.chain.from_iterable(nltk.chunk.tree2conlltags(chunker.parse(tagged_sent)) for tagged_sent in tagged_sents))\n",
    "    \n",
    "    # join constituent chunk words into a single chunked phrase\n",
    "    candidates = [' '.join(word for word, pos, chunk in group).lower() for key, group in itertools.groupby(all_chunks, lambda (word,pos,chunk): chunk != 'O') if key]\n",
    "    # Remove duplicates\n",
    "    candidates = list(set(candidates))\n",
    "    # Sort\n",
    "    candidates.sort()\n",
    "    \n",
    "    print(\"Number of candidate chunks: \" + str(len(candidates)))\n",
    "    return [cand for cand in candidates if cand not in stop_words and not all(char in punct for char in cand)]"
   ]
  },
  {
   "cell_type": "markdown",
   "metadata": {},
   "source": [
    "# Extract key chunks of the seed article"
   ]
  },
  {
   "cell_type": "code",
   "execution_count": 7,
   "metadata": {
    "collapsed": false
   },
   "outputs": [
    {
     "name": "stdout",
     "output_type": "stream",
     "text": [
      "Number of candidate chunks: 31\n"
     ]
    },
    {
     "data": {
      "text/plain": [
       "['barca',\n",
       " 'barca in order',\n",
       " 'barcelona superstar',\n",
       " 'battle manchester united for barcelona star neymar',\n",
       " 'brazilian',\n",
       " 'city',\n",
       " 'date',\n",
       " 'deals in sunsport',\n",
       " 'express',\n",
       " 'father',\n",
       " 'goals',\n",
       " 'gossip',\n",
       " 'live transfer blog neymar snr',\n",
       " 'manchester city',\n",
       " 'mega-money deal',\n",
       " 'messi',\n",
       " 'mourinho',\n",
       " 'news',\n",
       " 'neymar',\n",
       " 'neymar jr',\n",
       " 'nou camp',\n",
       " 'past few seasons',\n",
       " 'premier league',\n",
       " 'rumours',\n",
       " 'season with luis suarez',\n",
       " 'shadow of lionel messi',\n",
       " 'son',\n",
       " 'spanish papers',\n",
       " 'striker',\n",
       " 'swoop for neymar',\n",
       " 'united']"
      ]
     },
     "execution_count": 7,
     "metadata": {},
     "output_type": "execute_result"
    }
   ],
   "source": [
    "keyword_extraction(seeddata)"
   ]
  },
  {
   "cell_type": "markdown",
   "metadata": {
    "collapsed": true
   },
   "source": [
    "# Extract key chunks from the rest"
   ]
  },
  {
   "cell_type": "code",
   "execution_count": null,
   "metadata": {
    "collapsed": true
   },
   "outputs": [],
   "source": []
  }
 ],
 "metadata": {
  "anaconda-cloud": {},
  "kernelspec": {
   "display_name": "Python [default]",
   "language": "python",
   "name": "python2"
  },
  "language_info": {
   "codemirror_mode": {
    "name": "ipython",
    "version": 2
   },
   "file_extension": ".py",
   "mimetype": "text/x-python",
   "name": "python",
   "nbconvert_exporter": "python",
   "pygments_lexer": "ipython2",
   "version": "2.7.12"
  }
 },
 "nbformat": 4,
 "nbformat_minor": 1
}
