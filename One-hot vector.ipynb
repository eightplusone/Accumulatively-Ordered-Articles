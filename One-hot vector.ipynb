{
 "cells": [
  {
   "cell_type": "markdown",
   "metadata": {},
   "source": [
    "# Load seed article"
   ]
  },
  {
   "cell_type": "code",
   "execution_count": 150,
   "metadata": {
    "collapsed": false
   },
   "outputs": [
    {
     "name": "stdout",
     "output_type": "stream",
     "text": [
      "If Neymar never ever signs for Manchester United, imagine how many lives would have been wasted speculating on whether he might. Lives that could have been spent making worthwhile contributions to society – curing disease, fighting injustice, cuddling orphaned monkeys – but were instead sucked into a bottomless vacuum of pointless rumour-mongering that helped no one.   Actually, this is not even a conversation Hot Football Transfer Gossip wants to get involved in on a Monday morning. It's too distressing. Instead, let's turn our attention to the Daily Express, which says that Neymar could be on his way to Man Utd. Woah, cool!  This is not strictly the belief of the Express, but the belief of Real Madrid president Florentino Perez, who reportedly \"feels\" that Neymar has a Nou Camp \"escape plan\", due to his unhappiness with Barca's faltering form and his \"tense relationship\" with Lionel Messi.   The reason this is good news for United is that they are \"one of the few teams who would be able to afford him\". Or, at least, one of the few clubs willing to meet his 170m release clause. Remember, the one that was inserted when Neymar signed a new contract a few months ago. The contract that was supposed to end all this speculation and help us regain our sanity and our dignity. Remember THAT?  Deep breaths… Moving on, the Red Devils have also received a boost in their pursuit of Antoine Griezmann after he appeared to rule out a move from Atletico Madrid to rivals Real, describing the idea as \"dead\" (Sun).   Hot Football Transfer Gossip's eye was also caught by a adjacent Sun story about Danny Dyer earning 400,000 a year on EastEnders – 100,000 more than Steve McFadden aka Phil Mitchell. That's outrageous! Phil doesn't deserve that after all his years of sterling service.  Umm, sorry… Man Utd are also keen on Everton's Romelu Lukaku and Torino striker Andrea Belotti, with Jose Mourinho admitting he is \"very far\" from assembling a title-winning team and prepared to make four major signings this summer (Manchester Evening News).  Meanwhile, Manchester City are the latest club described as \"leading the race\" to sign Alexis Sanchez, with Chilean paper Cooperativa reporting that Pep Guardiola is prepared to shell out 50m for the Arsenal contract rebel.  Elsewhere, the agent of Frank \"new Yaya Toure\" Kessie says Liverpool and Arsenal are keen on the 20-year-old Atalanta midfielder (Mirror), Chelsea are one of several clubs interested in signing Real Madrid defensive legend Pepe (Marca) and Real president Perez is so concerned with the side's recent attacking displays that he is planning to sell either Gareth Bale or Karim Benzema or Cristiano Ronaldo (aka the BBC) in the summer (Don Balon). That'll be Benzema then.\n"
     ]
    }
   ],
   "source": [
    "# Seed article\n",
    "seed = \"data/17-4-20\"\n",
    "seed_date = seed[5:].split(\"-\")\n",
    "\n",
    "with open(seed, 'r') as seedfile:\n",
    "    seeddata = seedfile.read().replace('\\n', ' ')\n",
    "    seeddata = seeddata.replace('£', '')\n",
    "    seeddata = seeddata.replace('€', '')\n",
    "    seeddata = seeddata.replace('@', '')\n",
    "    \n",
    "print(seeddata)"
   ]
  },
  {
   "cell_type": "markdown",
   "metadata": {},
   "source": [
    "# Extract chunks of candidate keyphrases\n",
    "\n",
    "Reference: http://bdewilde.github.io/blog/2014/09/23/intro-to-automatic-keyphrase-extraction/\n",
    "\n",
    "Note: We only get chunks that follow this pattern: (&lt;JJ&gt;\\* &lt;NN.\\*&gt;+ &lt;IN&gt;)? &lt;JJ&gt;\\* &lt;NN.\\*&gt;+"
   ]
  },
  {
   "cell_type": "code",
   "execution_count": 151,
   "metadata": {
    "collapsed": false
   },
   "outputs": [],
   "source": [
    "def keyword_extraction(text, grammar = r\"KT: {(<JJ>* <NN.*>+ <IN>)? <JJ>* <NN.*>+}\"):\n",
    "    import itertools, nltk, string\n",
    "    \n",
    "    # exclude candidates that are stop words or entirely punctuation\n",
    "    punct = set(string.punctuation)\n",
    "    stop_words = set(nltk.corpus.stopwords.words('english'))\n",
    "    \n",
    "    # tokenize, POS-tag, and chunk using regular expressions\n",
    "    chunker = nltk.chunk.regexp.RegexpParser(grammar)\n",
    "    tagged_sents = nltk.pos_tag_sents(nltk.word_tokenize(sent) for sent in nltk.sent_tokenize(text))\n",
    "    all_chunks = list(itertools.chain.from_iterable(nltk.chunk.tree2conlltags(chunker.parse(tagged_sent)) for tagged_sent in tagged_sents))\n",
    "    \n",
    "    # join constituent chunk words into a single chunked phrase\n",
    "    candidates = [' '.join(word for word, pos, chunk in group).lower() for key, group in itertools.groupby(all_chunks, lambda (word,pos,chunk): chunk != 'O') if key]\n",
    "    # Remove duplicates\n",
    "    candidates = list(set(candidates))\n",
    "    # Sort\n",
    "    candidates.sort()\n",
    "    \n",
    "    #print(\"Number of candidate chunks: \" + str(len(candidates)))\n",
    "    return [cand for cand in candidates if cand not in stop_words and not all(char in punct for char in cand)]"
   ]
  },
  {
   "cell_type": "markdown",
   "metadata": {},
   "source": [
    "# Extract key chunks of the seed article"
   ]
  },
  {
   "cell_type": "code",
   "execution_count": 152,
   "metadata": {
    "collapsed": false
   },
   "outputs": [
    {
     "name": "stdout",
     "output_type": "stream",
     "text": [
      "['20-year-old atalanta midfielder', 'adjacent sun story about danny dyer', 'agent of frank', 'alexis sanchez', 'arsenal', 'arsenal contract rebel', 'attention', 'bbc', 'belief', 'belief of real madrid president florentino perez', 'benzema', 'boost', 'bottomless vacuum of pointless rumour-mongering', 'chelsea', 'chilean paper cooperativa reporting', 'club', 'contract', 'conversation hot football transfer gossip', 'cool', 'cristiano ronaldo', 'daily express', 'deep breaths\\xe2\\x80\\xa6', 'dignity', 'disease', 'don balon', 'escape plan', 'everton', 'express', 'eye', 'faltering form', 'feels', 'few clubs', 'few months', 'few teams', 'gareth bale', 'good news for united', 'hot football transfer gossip', 'idea', 'injustice', 'jose mourinho', 'karim benzema', 'kessie', 'lionel messi', 'liverpool', 'lives', 'major signings', 'man utd', 'manchester city', 'manchester evening news', 'many lives', 'marca', 'mirror', 'monday morning', 'monkeys', 'move from atletico madrid', 'new contract', 'new yaya toure', 'neymar', 'nou camp', 'one', 'pep guardiola', 'phil', 'pursuit of antoine griezmann', 'race', 'real', 'real madrid defensive legend pepe', 'real president perez', 'reason', 'recent attacking displays', 'red devils', 'release clause', 'remember', 'romelu lukaku', 'sanity', 'several clubs', 'side', 'signs for manchester united', 'sorry\\xe2\\x80\\xa6 man utd', 'speculation', 'steve mcfadden aka phil mitchell', 'summer', 'sun', 'tense relationship', 'title-winning team', 'torino striker andrea belotti', 'umm', 'unhappiness with barca', 'way', 'woah', 'worthwhile contributions', 'year on eastenders', 'years of sterling service', '\\xe2\\x80\\x93']\n"
     ]
    }
   ],
   "source": [
    "seed_keychunks = keyword_extraction(seeddata)\n",
    "print(seed_keychunks)"
   ]
  },
  {
   "cell_type": "markdown",
   "metadata": {
    "collapsed": true
   },
   "source": [
    "# Extract key chunks from the rest"
   ]
  },
  {
   "cell_type": "code",
   "execution_count": 153,
   "metadata": {
    "collapsed": false
   },
   "outputs": [
    {
     "name": "stdout",
     "output_type": "stream",
     "text": [
      "data/17-4-24\n",
      "data/17-4-27\n",
      "data/17-5-1\n",
      "data/17-5-10\n",
      "data/17-5-19\n",
      "data/17-5-24\n",
      "data/17-5-5\n",
      "data/17-6-13\n",
      "data/17-7-1\n",
      "data/17-7-1-2\n",
      "data/17-7-13\n",
      "data/17-7-18\n",
      "data/17-7-18-2\n",
      "data/17-7-18-3\n",
      "data/17-7-18-4\n",
      "data/17-7-19\n",
      "data/17-7-19-2\n",
      "data/17-7-19-3\n",
      "data/17-7-19-4\n",
      "data/17-7-19-5\n",
      "data/17-7-24\n",
      "data/17-7-24-2\n",
      "data/17-7-24-3\n",
      "data/17-7-28\n",
      "data/17-7-30\n",
      "data/17-7-30-2\n",
      "data/17-7-30-3\n",
      "data/17-7-31\n",
      "data/17-8-1\n",
      "data/17-8-17\n",
      "data/17-8-2\n",
      "data/17-8-2-2\n",
      "data/17-8-2-3\n",
      "data/17-8-28\n",
      "data/17-8-3\n",
      "data/17-8-3-2\n",
      "data/17-8-31\n",
      "data/17-8-4\n",
      "data/17-8-4-2\n",
      "data/17-9-1\n",
      "done.\n"
     ]
    }
   ],
   "source": [
    "import glob\n",
    "\n",
    "path = \"data/*\"   \n",
    "files = glob.glob(path)\n",
    "all_articles = []\n",
    "all_keychunks = []\n",
    "all_dates = []\n",
    "\n",
    "for file in files:\n",
    "    if not (file == seed):\n",
    "        print(file)\n",
    "        \n",
    "        # Get the date of the article\n",
    "        date = file[5:].split(\"-\")\n",
    "        all_dates.append(date)\n",
    "\n",
    "        # Read content\n",
    "        f = open(file, \"r\")\n",
    "        fdata = f.read().replace('\\n', ' ')\n",
    "        fdata = fdata.replace('£', '')\n",
    "        fdata = fdata.replace('€', '')\n",
    "        fdata = fdata.replace('@', '')\n",
    "        all_articles.append([file, fdata])\n",
    "        all_keychunks.append(keyword_extraction(fdata))\n",
    "        f.close()\n",
    "        \n",
    "print(\"done.\")"
   ]
  },
  {
   "cell_type": "code",
   "execution_count": 154,
   "metadata": {
    "collapsed": false
   },
   "outputs": [
    {
     "name": "stdout",
     "output_type": "stream",
     "text": [
      "[['17', '4', '24'], ['17', '4', '27'], ['17', '5', '1'], ['17', '5', '10'], ['17', '5', '19'], ['17', '5', '24'], ['17', '5', '5'], ['17', '6', '13'], ['17', '7', '1'], ['17', '7', '1', '2'], ['17', '7', '13'], ['17', '7', '18'], ['17', '7', '18', '2'], ['17', '7', '18', '3'], ['17', '7', '18', '4'], ['17', '7', '19'], ['17', '7', '19', '2'], ['17', '7', '19', '3'], ['17', '7', '19', '4'], ['17', '7', '19', '5'], ['17', '7', '24'], ['17', '7', '24', '2'], ['17', '7', '24', '3'], ['17', '7', '28'], ['17', '7', '30'], ['17', '7', '30', '2'], ['17', '7', '30', '3'], ['17', '7', '31'], ['17', '8', '1'], ['17', '8', '17'], ['17', '8', '2'], ['17', '8', '2', '2'], ['17', '8', '2', '3'], ['17', '8', '28'], ['17', '8', '3'], ['17', '8', '3', '2'], ['17', '8', '31'], ['17', '8', '4'], ['17', '8', '4', '2'], ['17', '9', '1']]\n"
     ]
    }
   ],
   "source": [
    "print(all_dates)"
   ]
  },
  {
   "cell_type": "markdown",
   "metadata": {},
   "source": [
    "# Map all_keychunks to the vocabulary created from seed_keychunks to have one hot vectors"
   ]
  },
  {
   "cell_type": "code",
   "execution_count": 155,
   "metadata": {
    "collapsed": false,
    "scrolled": true
   },
   "outputs": [
    {
     "name": "stdout",
     "output_type": "stream",
     "text": [
      "[0, 0, 0, 0, 0, 0, 1, 0, 0, 0, 0, 0, 0, 0, 0, 1, 1, 0, 0, 0, 0, 0, 0, 0, 0, 0, 0, 0, 0, 0, 0, 0, 0, 0, 0, 0, 0, 0, 0, 1, 0, 0, 0, 0, 0, 0, 0, 0, 0, 0, 0, 0, 0, 0, 0, 0, 0, 1, 0, 0, 0, 0, 0, 0, 0, 0, 0, 0, 0, 0, 0, 0, 0, 0, 0, 0, 0, 0, 0, 0, 0, 0, 0, 0, 0, 0, 0, 0, 0, 0, 0, 0, 0]\n",
      "[0, 0, 0, 0, 0, 0, 0, 0, 0, 0, 0, 0, 0, 0, 0, 0, 0, 0, 0, 0, 0, 0, 0, 0, 0, 0, 0, 0, 0, 0, 0, 0, 0, 0, 0, 0, 0, 0, 0, 0, 0, 0, 0, 0, 0, 0, 0, 0, 0, 0, 0, 0, 0, 0, 0, 0, 0, 1, 1, 0, 1, 0, 0, 0, 0, 0, 0, 0, 0, 0, 1, 0, 0, 0, 0, 0, 0, 0, 0, 0, 0, 0, 0, 0, 0, 0, 0, 0, 0, 0, 0, 0, 0]\n",
      "[0, 0, 0, 0, 0, 0, 0, 0, 0, 0, 0, 0, 0, 0, 0, 0, 0, 0, 0, 0, 0, 0, 0, 0, 0, 0, 0, 1, 0, 0, 0, 0, 0, 0, 0, 0, 0, 0, 0, 0, 0, 0, 0, 0, 0, 0, 0, 1, 0, 0, 0, 0, 0, 0, 0, 0, 0, 1, 1, 0, 0, 0, 0, 0, 0, 0, 0, 0, 0, 0, 0, 0, 0, 0, 0, 0, 0, 0, 0, 0, 0, 0, 0, 0, 0, 0, 0, 0, 0, 0, 0, 0, 0]\n",
      "[0, 0, 0, 0, 0, 0, 0, 0, 0, 0, 0, 0, 0, 1, 0, 0, 0, 0, 0, 0, 0, 0, 0, 0, 0, 0, 0, 0, 0, 0, 0, 0, 0, 0, 0, 0, 0, 0, 0, 0, 0, 0, 0, 0, 0, 0, 0, 1, 0, 0, 0, 0, 0, 0, 0, 0, 0, 1, 0, 0, 0, 0, 0, 0, 0, 0, 0, 0, 0, 0, 0, 0, 0, 0, 0, 0, 0, 0, 0, 0, 1, 0, 0, 0, 0, 0, 0, 0, 0, 0, 0, 0, 0]\n",
      "[0, 0, 0, 0, 0, 0, 0, 0, 0, 0, 0, 0, 0, 0, 0, 1, 0, 0, 0, 0, 0, 0, 0, 0, 0, 0, 0, 0, 0, 0, 0, 0, 0, 0, 0, 0, 0, 0, 0, 0, 0, 0, 0, 0, 0, 0, 0, 0, 0, 0, 0, 0, 0, 0, 0, 0, 0, 1, 0, 0, 0, 0, 0, 0, 0, 0, 0, 0, 0, 0, 0, 0, 0, 0, 0, 0, 0, 0, 1, 0, 0, 0, 0, 0, 0, 0, 0, 0, 0, 0, 0, 0, 0]\n",
      "[0, 0, 0, 0, 1, 0, 0, 0, 0, 0, 0, 0, 0, 0, 0, 1, 1, 0, 0, 0, 0, 0, 0, 0, 1, 0, 0, 0, 0, 0, 0, 0, 0, 0, 0, 0, 0, 0, 0, 0, 0, 0, 0, 0, 0, 0, 0, 0, 0, 0, 0, 0, 0, 0, 0, 0, 0, 1, 0, 0, 0, 0, 0, 0, 0, 0, 0, 0, 0, 1, 0, 0, 0, 0, 0, 0, 0, 0, 0, 0, 1, 0, 0, 0, 0, 0, 0, 0, 0, 0, 0, 0, 0]\n",
      "[0, 0, 0, 0, 0, 0, 0, 0, 0, 0, 0, 0, 0, 0, 0, 1, 0, 0, 0, 0, 0, 0, 0, 0, 0, 0, 0, 0, 0, 0, 0, 0, 0, 0, 0, 0, 0, 0, 0, 0, 0, 0, 0, 0, 0, 0, 0, 0, 0, 0, 0, 0, 0, 0, 0, 0, 0, 1, 1, 0, 0, 0, 0, 0, 0, 0, 0, 0, 0, 0, 0, 0, 0, 0, 0, 0, 0, 0, 0, 0, 0, 0, 0, 0, 0, 0, 0, 0, 0, 0, 0, 0, 0]\n",
      "[0, 0, 0, 0, 0, 0, 0, 0, 0, 0, 0, 0, 0, 0, 0, 0, 1, 0, 0, 0, 0, 0, 0, 0, 0, 0, 0, 0, 0, 0, 0, 0, 0, 0, 0, 0, 0, 0, 0, 0, 0, 0, 1, 0, 0, 0, 0, 0, 0, 0, 0, 0, 0, 0, 0, 0, 0, 1, 0, 0, 0, 0, 0, 0, 0, 0, 0, 0, 0, 0, 0, 0, 0, 0, 0, 0, 0, 0, 0, 0, 0, 0, 0, 0, 0, 0, 0, 0, 0, 0, 0, 0, 0]\n",
      "[0, 0, 0, 0, 1, 0, 0, 0, 0, 0, 0, 0, 0, 0, 0, 1, 1, 0, 0, 0, 0, 0, 0, 0, 0, 0, 0, 0, 0, 0, 0, 0, 0, 0, 0, 0, 0, 0, 0, 0, 0, 0, 0, 0, 0, 0, 0, 0, 1, 0, 0, 0, 0, 0, 0, 0, 0, 1, 0, 0, 0, 0, 0, 0, 0, 0, 0, 0, 0, 0, 1, 0, 0, 0, 0, 0, 0, 0, 0, 0, 1, 1, 0, 0, 0, 0, 0, 0, 0, 0, 0, 0, 0]\n",
      "[0, 0, 0, 0, 0, 0, 0, 0, 0, 0, 0, 0, 0, 0, 0, 1, 1, 0, 0, 0, 0, 0, 0, 0, 0, 0, 0, 0, 0, 0, 0, 0, 0, 0, 0, 0, 0, 0, 0, 0, 0, 0, 1, 0, 0, 0, 0, 0, 0, 0, 0, 0, 0, 0, 0, 0, 0, 1, 0, 0, 0, 0, 0, 0, 0, 0, 0, 0, 0, 0, 1, 0, 0, 0, 0, 0, 0, 0, 0, 0, 0, 0, 0, 0, 0, 0, 0, 0, 0, 0, 0, 0, 0]\n",
      "[0, 0, 0, 0, 0, 0, 0, 0, 0, 0, 0, 0, 0, 1, 0, 1, 0, 0, 0, 0, 0, 0, 0, 0, 0, 0, 0, 0, 0, 0, 0, 0, 0, 0, 0, 0, 0, 0, 0, 0, 0, 0, 1, 0, 0, 0, 0, 0, 0, 0, 0, 0, 0, 0, 0, 0, 0, 1, 1, 0, 0, 0, 0, 0, 0, 0, 0, 0, 0, 0, 0, 0, 0, 0, 0, 0, 0, 0, 0, 0, 1, 0, 0, 0, 0, 0, 0, 0, 0, 0, 0, 0, 0]\n",
      "[0, 0, 0, 0, 0, 0, 0, 0, 0, 0, 0, 0, 0, 0, 0, 0, 0, 0, 0, 0, 0, 0, 0, 0, 0, 0, 0, 0, 0, 0, 0, 0, 0, 0, 0, 0, 0, 0, 0, 0, 0, 0, 0, 0, 0, 0, 0, 0, 0, 0, 0, 0, 0, 0, 0, 0, 0, 1, 0, 0, 0, 0, 0, 0, 0, 0, 0, 0, 0, 0, 0, 0, 0, 0, 0, 0, 0, 0, 0, 0, 0, 0, 0, 0, 0, 0, 0, 0, 0, 0, 0, 0, 0]\n",
      "[0, 0, 0, 1, 1, 0, 1, 1, 0, 0, 0, 0, 0, 1, 0, 1, 1, 0, 0, 1, 0, 0, 0, 0, 0, 0, 0, 0, 0, 0, 0, 0, 0, 0, 0, 0, 0, 0, 0, 0, 0, 0, 1, 0, 0, 0, 0, 1, 0, 0, 0, 0, 0, 0, 0, 0, 0, 0, 0, 0, 0, 0, 0, 0, 0, 0, 0, 0, 0, 0, 1, 0, 0, 0, 0, 0, 0, 0, 0, 0, 1, 0, 0, 0, 0, 0, 0, 0, 0, 0, 0, 0, 0]\n",
      "[0, 0, 0, 0, 0, 0, 0, 0, 0, 0, 0, 0, 0, 0, 0, 1, 0, 0, 0, 0, 0, 0, 0, 0, 0, 0, 0, 0, 1, 0, 0, 0, 0, 0, 1, 0, 0, 0, 0, 0, 0, 0, 0, 0, 0, 0, 0, 0, 0, 0, 0, 0, 0, 0, 0, 0, 0, 1, 0, 0, 0, 0, 0, 0, 0, 0, 0, 0, 0, 0, 0, 0, 1, 0, 0, 0, 0, 0, 0, 0, 1, 0, 0, 0, 0, 0, 0, 1, 0, 0, 0, 0, 0]\n",
      "[0, 0, 0, 0, 0, 0, 0, 0, 0, 0, 0, 0, 0, 0, 0, 0, 0, 0, 0, 0, 0, 0, 0, 0, 0, 0, 0, 0, 0, 0, 0, 0, 0, 0, 0, 0, 0, 0, 0, 0, 0, 0, 0, 0, 0, 0, 0, 0, 0, 0, 0, 0, 0, 0, 0, 0, 0, 1, 0, 0, 0, 0, 0, 0, 0, 0, 0, 0, 0, 0, 0, 0, 0, 0, 0, 0, 0, 0, 0, 0, 0, 0, 0, 0, 0, 0, 0, 0, 0, 0, 0, 0, 0]\n",
      "[0, 0, 0, 0, 0, 0, 0, 0, 0, 0, 0, 0, 0, 0, 0, 0, 1, 0, 0, 0, 0, 0, 0, 0, 0, 0, 0, 0, 0, 0, 0, 0, 0, 0, 0, 0, 0, 0, 0, 0, 0, 0, 0, 0, 0, 0, 0, 0, 0, 0, 0, 0, 0, 0, 0, 0, 0, 1, 0, 0, 0, 0, 0, 0, 0, 0, 0, 0, 0, 0, 1, 0, 0, 0, 0, 0, 0, 0, 0, 0, 0, 0, 0, 0, 0, 0, 0, 0, 0, 0, 0, 0, 0]\n",
      "[0, 0, 0, 0, 0, 0, 0, 0, 0, 0, 0, 0, 0, 1, 0, 1, 0, 0, 0, 1, 0, 0, 0, 0, 0, 0, 0, 0, 0, 0, 0, 0, 0, 0, 0, 0, 0, 0, 0, 0, 0, 0, 1, 0, 0, 0, 0, 0, 0, 0, 0, 0, 0, 0, 0, 0, 0, 1, 1, 0, 0, 0, 0, 0, 0, 0, 0, 0, 0, 0, 1, 0, 0, 0, 0, 0, 0, 0, 0, 0, 0, 0, 0, 0, 0, 0, 0, 0, 0, 0, 0, 0, 0]\n",
      "[0, 0, 0, 0, 0, 0, 0, 0, 0, 0, 0, 0, 0, 1, 0, 1, 0, 0, 0, 0, 0, 0, 0, 0, 0, 0, 0, 0, 0, 0, 0, 0, 0, 0, 0, 0, 0, 0, 0, 0, 0, 0, 0, 0, 0, 0, 0, 0, 0, 0, 0, 0, 0, 0, 0, 0, 0, 1, 1, 0, 0, 0, 0, 0, 0, 0, 0, 0, 0, 1, 1, 0, 0, 0, 0, 0, 0, 0, 0, 0, 1, 0, 0, 0, 0, 0, 0, 0, 0, 0, 0, 0, 1]\n",
      "[0, 0, 0, 0, 0, 0, 0, 0, 0, 0, 0, 0, 0, 0, 0, 0, 0, 0, 0, 1, 0, 0, 0, 0, 0, 0, 0, 0, 0, 0, 0, 0, 0, 0, 0, 0, 0, 0, 0, 0, 0, 0, 1, 0, 0, 0, 0, 0, 0, 0, 0, 0, 0, 0, 0, 0, 0, 1, 0, 0, 0, 0, 0, 0, 0, 0, 0, 0, 0, 0, 0, 0, 0, 0, 0, 0, 0, 0, 0, 0, 0, 0, 0, 0, 0, 0, 0, 0, 0, 0, 0, 0, 0]\n",
      "[0, 0, 0, 0, 0, 0, 0, 0, 0, 0, 0, 0, 0, 0, 0, 1, 0, 0, 0, 0, 0, 0, 0, 0, 0, 0, 0, 0, 0, 0, 0, 0, 0, 0, 0, 0, 0, 0, 0, 0, 0, 0, 1, 0, 0, 0, 0, 0, 0, 0, 0, 0, 0, 0, 0, 0, 0, 1, 0, 0, 1, 0, 0, 0, 0, 0, 0, 0, 0, 0, 1, 0, 0, 0, 0, 0, 0, 0, 0, 0, 0, 0, 0, 0, 0, 0, 0, 0, 0, 0, 0, 0, 0]\n",
      "[0, 0, 0, 0, 0, 0, 0, 0, 0, 0, 0, 0, 0, 0, 0, 1, 0, 0, 0, 0, 0, 0, 0, 0, 1, 0, 1, 0, 0, 0, 0, 0, 0, 0, 0, 0, 0, 0, 0, 0, 0, 0, 0, 0, 0, 0, 0, 0, 0, 0, 0, 0, 0, 0, 0, 0, 0, 1, 0, 0, 0, 0, 0, 0, 0, 0, 0, 0, 0, 0, 0, 0, 0, 0, 0, 0, 0, 0, 0, 0, 0, 0, 0, 0, 0, 0, 0, 0, 0, 0, 0, 0, 0]\n",
      "[0, 0, 0, 0, 0, 0, 0, 0, 0, 0, 0, 0, 0, 0, 0, 0, 0, 0, 0, 0, 0, 0, 0, 0, 1, 0, 0, 0, 0, 0, 0, 0, 0, 0, 0, 0, 0, 0, 0, 0, 0, 0, 1, 0, 0, 0, 0, 0, 0, 0, 0, 0, 0, 0, 0, 0, 0, 1, 0, 0, 0, 0, 0, 0, 0, 0, 0, 0, 0, 0, 0, 0, 0, 0, 0, 0, 0, 0, 0, 0, 0, 0, 0, 0, 0, 0, 0, 0, 0, 0, 0, 0, 0]\n",
      "[0, 0, 0, 0, 0, 0, 0, 0, 0, 0, 0, 0, 0, 0, 0, 1, 0, 0, 0, 0, 0, 0, 0, 0, 0, 0, 0, 0, 0, 0, 0, 0, 0, 0, 0, 0, 0, 0, 0, 0, 0, 0, 0, 1, 0, 0, 0, 0, 0, 0, 0, 0, 0, 0, 0, 0, 0, 1, 1, 0, 1, 0, 0, 0, 0, 0, 0, 0, 0, 0, 0, 0, 0, 0, 0, 0, 0, 0, 0, 0, 1, 1, 0, 0, 0, 0, 0, 0, 0, 0, 0, 0, 0]\n",
      "[0, 0, 0, 0, 0, 0, 0, 0, 0, 0, 0, 0, 0, 0, 0, 1, 0, 0, 0, 0, 0, 0, 0, 0, 0, 0, 0, 0, 0, 0, 0, 0, 0, 0, 0, 0, 0, 0, 0, 0, 0, 0, 1, 0, 0, 0, 0, 0, 0, 0, 0, 0, 0, 0, 0, 0, 0, 1, 0, 0, 0, 0, 0, 0, 0, 0, 0, 0, 0, 0, 0, 0, 0, 0, 0, 1, 0, 0, 0, 0, 0, 0, 0, 0, 0, 0, 0, 1, 0, 0, 0, 0, 0]\n",
      "[0, 0, 0, 0, 0, 0, 0, 0, 0, 0, 0, 0, 0, 0, 0, 1, 0, 0, 0, 0, 0, 0, 0, 0, 0, 0, 0, 0, 0, 0, 0, 0, 0, 0, 0, 0, 0, 0, 0, 0, 0, 0, 0, 0, 0, 0, 0, 0, 0, 0, 1, 0, 0, 0, 0, 0, 0, 1, 1, 0, 0, 0, 0, 0, 0, 0, 0, 0, 0, 0, 0, 0, 0, 0, 0, 1, 0, 0, 1, 0, 0, 0, 0, 0, 0, 0, 0, 0, 0, 0, 0, 0, 0]\n",
      "[0, 0, 0, 0, 0, 0, 0, 0, 0, 0, 0, 0, 0, 0, 0, 1, 1, 0, 0, 0, 0, 0, 0, 0, 0, 0, 0, 0, 0, 0, 0, 0, 0, 0, 0, 0, 0, 0, 0, 0, 0, 0, 1, 0, 0, 0, 0, 0, 0, 0, 0, 0, 0, 0, 0, 0, 0, 1, 1, 0, 0, 0, 0, 0, 0, 0, 0, 0, 0, 0, 1, 0, 0, 0, 0, 1, 0, 0, 0, 0, 0, 0, 0, 0, 0, 0, 0, 1, 0, 0, 0, 0, 0]\n",
      "[0, 0, 0, 0, 0, 0, 0, 0, 0, 0, 0, 0, 0, 0, 0, 0, 0, 0, 0, 0, 0, 0, 0, 0, 0, 0, 0, 0, 0, 0, 0, 0, 0, 0, 0, 0, 0, 0, 0, 0, 0, 0, 0, 0, 0, 0, 0, 0, 0, 0, 0, 0, 0, 0, 0, 0, 0, 1, 0, 0, 0, 0, 0, 0, 0, 0, 0, 0, 0, 0, 1, 0, 0, 0, 0, 0, 0, 0, 0, 0, 0, 0, 0, 0, 0, 0, 0, 0, 0, 0, 0, 0, 0]\n",
      "[0, 0, 0, 0, 0, 0, 0, 0, 0, 0, 0, 0, 0, 0, 0, 1, 0, 0, 0, 0, 0, 0, 0, 0, 1, 0, 0, 1, 0, 0, 0, 0, 0, 0, 0, 0, 0, 0, 0, 0, 0, 0, 1, 0, 0, 0, 0, 0, 0, 0, 1, 0, 0, 0, 0, 0, 0, 1, 1, 0, 0, 0, 0, 0, 0, 0, 0, 0, 0, 0, 1, 0, 0, 0, 0, 0, 0, 0, 1, 0, 0, 0, 0, 0, 0, 0, 0, 0, 0, 0, 0, 0, 0]\n",
      "[0, 0, 0, 0, 1, 0, 0, 1, 0, 0, 0, 0, 0, 0, 0, 1, 1, 0, 0, 1, 0, 0, 0, 0, 0, 0, 0, 0, 0, 0, 0, 0, 0, 0, 0, 0, 0, 0, 0, 0, 0, 0, 1, 1, 0, 0, 0, 0, 0, 0, 0, 0, 0, 0, 0, 0, 0, 1, 0, 1, 0, 0, 0, 0, 0, 0, 0, 0, 0, 0, 1, 0, 0, 0, 0, 1, 0, 0, 0, 0, 1, 0, 0, 0, 0, 0, 0, 1, 0, 0, 0, 0, 1]\n",
      "[0, 0, 0, 0, 0, 0, 0, 0, 0, 0, 0, 0, 0, 0, 0, 0, 1, 0, 0, 0, 0, 0, 0, 0, 0, 0, 0, 0, 0, 0, 0, 0, 0, 0, 0, 0, 0, 0, 0, 0, 0, 0, 0, 0, 0, 0, 0, 0, 0, 0, 0, 0, 0, 0, 0, 0, 0, 1, 0, 0, 0, 0, 0, 0, 0, 0, 0, 0, 0, 0, 1, 0, 0, 0, 0, 0, 0, 0, 0, 0, 0, 0, 0, 0, 0, 0, 0, 0, 0, 0, 0, 0, 0]\n",
      "[0, 0, 0, 0, 1, 0, 0, 1, 0, 0, 0, 0, 0, 0, 0, 1, 1, 0, 0, 1, 0, 0, 0, 0, 0, 0, 0, 0, 0, 0, 0, 0, 0, 0, 0, 0, 0, 0, 0, 0, 0, 0, 1, 1, 0, 0, 0, 0, 0, 0, 0, 0, 0, 0, 0, 0, 0, 1, 0, 1, 0, 0, 0, 0, 0, 0, 0, 0, 0, 0, 1, 0, 0, 0, 0, 1, 0, 0, 0, 0, 1, 0, 0, 0, 0, 0, 0, 1, 0, 0, 0, 0, 1]\n",
      "[0, 0, 0, 0, 0, 0, 0, 0, 0, 0, 0, 0, 0, 0, 0, 1, 1, 0, 0, 0, 0, 0, 0, 0, 0, 0, 0, 0, 0, 0, 0, 0, 0, 0, 0, 0, 0, 0, 0, 0, 0, 0, 0, 0, 0, 0, 0, 0, 0, 0, 0, 0, 0, 0, 0, 0, 0, 1, 0, 0, 0, 0, 0, 0, 0, 0, 0, 0, 0, 0, 0, 0, 0, 0, 0, 0, 0, 0, 0, 0, 0, 0, 0, 0, 0, 0, 0, 0, 0, 0, 0, 0, 0]\n",
      "[0, 0, 0, 0, 0, 0, 0, 0, 0, 0, 0, 0, 0, 0, 0, 1, 0, 0, 0, 0, 0, 0, 0, 0, 0, 0, 0, 0, 0, 0, 0, 0, 0, 0, 0, 0, 0, 0, 0, 0, 0, 0, 0, 0, 0, 0, 0, 0, 0, 0, 0, 0, 0, 0, 0, 0, 0, 1, 0, 0, 0, 0, 0, 0, 0, 0, 0, 0, 0, 0, 0, 0, 0, 0, 0, 0, 0, 0, 0, 0, 0, 0, 0, 0, 0, 0, 0, 1, 0, 0, 0, 0, 0]\n",
      "[0, 0, 0, 0, 0, 0, 0, 0, 0, 0, 0, 0, 0, 0, 0, 1, 1, 0, 0, 1, 0, 0, 0, 0, 0, 0, 0, 0, 0, 0, 0, 0, 0, 0, 0, 0, 0, 0, 0, 0, 0, 0, 1, 1, 0, 0, 0, 0, 0, 0, 0, 0, 0, 0, 0, 0, 0, 1, 0, 0, 0, 0, 0, 0, 0, 0, 0, 0, 0, 0, 0, 0, 1, 0, 0, 0, 0, 0, 0, 0, 1, 0, 0, 0, 0, 0, 0, 1, 0, 0, 0, 0, 0]\n",
      "[0, 0, 0, 0, 0, 0, 0, 0, 0, 0, 0, 0, 0, 0, 0, 0, 0, 0, 0, 0, 0, 0, 0, 0, 0, 0, 0, 0, 0, 0, 0, 0, 0, 0, 0, 0, 0, 0, 0, 0, 0, 0, 0, 0, 0, 0, 0, 0, 0, 0, 0, 0, 0, 0, 0, 0, 0, 1, 0, 0, 0, 0, 0, 0, 0, 0, 0, 0, 0, 0, 0, 0, 0, 0, 0, 0, 0, 0, 0, 0, 0, 0, 0, 0, 0, 0, 0, 0, 0, 0, 0, 0, 0]\n",
      "[0, 0, 0, 0, 0, 0, 0, 0, 0, 0, 0, 0, 0, 0, 0, 1, 1, 0, 0, 0, 0, 0, 0, 0, 0, 0, 0, 0, 0, 0, 0, 0, 0, 0, 0, 0, 0, 0, 0, 0, 0, 0, 0, 0, 0, 0, 0, 0, 0, 0, 0, 0, 0, 0, 0, 0, 0, 1, 0, 0, 0, 0, 0, 0, 0, 0, 0, 0, 0, 0, 1, 0, 0, 0, 0, 0, 0, 0, 0, 0, 0, 0, 0, 0, 0, 0, 0, 0, 0, 0, 0, 0, 0]\n",
      "[0, 0, 0, 0, 0, 0, 0, 0, 0, 0, 0, 0, 0, 0, 0, 1, 1, 0, 0, 0, 0, 0, 0, 0, 0, 0, 0, 0, 0, 0, 0, 0, 0, 0, 0, 0, 0, 0, 0, 0, 0, 0, 0, 1, 0, 0, 0, 0, 0, 0, 0, 0, 0, 0, 0, 0, 0, 1, 0, 0, 0, 0, 0, 0, 0, 0, 0, 0, 0, 0, 0, 0, 1, 0, 0, 0, 0, 0, 0, 0, 1, 0, 0, 0, 0, 0, 0, 1, 0, 0, 0, 0, 0]\n",
      "[0, 0, 0, 0, 0, 0, 0, 0, 0, 0, 0, 0, 0, 0, 0, 1, 0, 0, 0, 0, 0, 0, 0, 0, 0, 0, 0, 0, 0, 0, 0, 0, 0, 0, 0, 0, 0, 0, 0, 0, 0, 0, 0, 0, 0, 0, 0, 0, 0, 0, 0, 0, 0, 0, 0, 0, 0, 1, 0, 0, 0, 0, 0, 0, 0, 0, 0, 0, 0, 0, 0, 0, 0, 0, 0, 0, 0, 0, 0, 0, 0, 0, 0, 0, 0, 0, 0, 0, 0, 0, 0, 0, 0]\n",
      "[0, 0, 0, 0, 0, 0, 0, 0, 0, 0, 0, 0, 0, 0, 0, 1, 0, 0, 0, 0, 0, 0, 0, 0, 0, 0, 0, 0, 0, 0, 0, 0, 0, 0, 0, 0, 0, 0, 0, 0, 0, 0, 0, 0, 0, 0, 0, 0, 0, 0, 0, 0, 0, 0, 0, 0, 0, 1, 0, 0, 0, 0, 0, 0, 0, 0, 0, 0, 0, 0, 0, 0, 0, 0, 0, 0, 0, 0, 0, 0, 0, 0, 0, 0, 0, 0, 0, 1, 0, 0, 0, 0, 0]\n",
      "[0, 0, 0, 0, 1, 0, 0, 0, 0, 0, 0, 0, 0, 0, 0, 0, 0, 0, 0, 0, 0, 0, 0, 0, 0, 0, 0, 0, 0, 0, 0, 0, 0, 0, 0, 0, 0, 0, 0, 0, 0, 0, 0, 0, 0, 0, 0, 1, 0, 0, 0, 0, 0, 0, 0, 0, 0, 1, 0, 0, 0, 0, 0, 0, 0, 0, 0, 0, 0, 0, 0, 1, 0, 0, 0, 0, 0, 0, 0, 0, 0, 0, 0, 0, 0, 0, 0, 0, 0, 0, 0, 0, 0]\n"
     ]
    }
   ],
   "source": [
    "one_hot_vectors = []\n",
    "\n",
    "for keychunk in all_keychunks:\n",
    "    vect = []\n",
    "    for chunk in seed_keychunks:\n",
    "        if chunk in keychunk:\n",
    "            vect.append(1)\n",
    "        else:\n",
    "            vect.append(0)\n",
    "    one_hot_vectors.append(vect)\n",
    "\n",
    "for vect in one_hot_vectors:\n",
    "    print(vect)"
   ]
  },
  {
   "cell_type": "markdown",
   "metadata": {},
   "source": [
    "# Compare the one hot vectors"
   ]
  },
  {
   "cell_type": "code",
   "execution_count": 156,
   "metadata": {
    "collapsed": false
   },
   "outputs": [
    {
     "name": "stdout",
     "output_type": "stream",
     "text": [
      "[ 0.23186945  0.20739034  0.20739034  0.20739034  0.1796053   0.27435163\n",
      "  0.1796053   0.1796053   0.29329423  0.23186945  0.25400025  0.10369517\n",
      "  0.3592106   0.27435163  0.10369517  0.1796053   0.27435163  0.29329423\n",
      "  0.1796053   0.23186945  0.20739034  0.1796053   0.27435163  0.23186945\n",
      "  0.25400025  0.29329423  0.14664712  0.31108551  0.3879918   0.1796053\n",
      "  0.3879918   0.1796053   0.1796053   0.31108551  0.10369517  0.20739034\n",
      "  0.27435163  0.14664712  0.1796053   0.20739034]\n"
     ]
    }
   ],
   "source": [
    "import numpy as np\n",
    "\n",
    "seed_one_hot = np.array([1] * len(one_hot_vectors[0]))\n",
    "one_hot_vectors = [np.array(vector) for vector in one_hot_vectors]\n",
    "\n",
    "from scipy import spatial\n",
    "\n",
    "# Cosine similarity\n",
    "one_hot_distance = np.array([1 - spatial.distance.cosine(seed_one_hot, vector) for vector in one_hot_vectors])\n",
    "print(one_hot_distance)"
   ]
  },
  {
   "cell_type": "markdown",
   "metadata": {},
   "source": [
    "# Filter out articles that are published after the seed article's date or have one-hot vector too far away from the seed vector or "
   ]
  },
  {
   "cell_type": "code",
   "execution_count": 157,
   "metadata": {
    "collapsed": false
   },
   "outputs": [
    {
     "name": "stdout",
     "output_type": "stream",
     "text": [
      "[0, 0, 0, 0, 1, 0, 1, 1, 0, 0, 0, 1, 0, 0, 1, 1, 0, 0, 1, 0, 0, 1, 0, 0, 0, 0, 1, 0, 0, 1, 0, 1, 1, 0, 1, 0, 0, 1, 1, 0]\n"
     ]
    }
   ],
   "source": [
    "is_selected = [0] * len(one_hot_distance)\n",
    "distance_threshold = 0.2\n",
    "\n",
    "for i in range(len(one_hot_distance)):\n",
    "    if one_hot_distance[i] <= distance_threshold:\n",
    "        if all_dates[i][0] > seed_date[0]:\n",
    "            is_selected[i] = 1\n",
    "        elif all_dates[i][0] == seed_date[0] and all_dates[i][1] > seed_date[1]:\n",
    "            is_selected[i] = 1\n",
    "        elif all_dates[i][0] == seed_date[0] and all_dates[i][1] == seed_date[1] and all_dates[i][2] >= seed_date[2]:\n",
    "            is_selected[i] = 1\n",
    "\n",
    "print(is_selected)"
   ]
  },
  {
   "cell_type": "markdown",
   "metadata": {},
   "source": [
    "# Sorting"
   ]
  },
  {
   "cell_type": "code",
   "execution_count": 158,
   "metadata": {
    "collapsed": false
   },
   "outputs": [],
   "source": [
    "import math\n",
    "\n",
    "def compare(article_index_1, article_index_2):\n",
    "    score = 0.0\n",
    "    \n",
    "    # Weights\n",
    "    w_year = 1.0\n",
    "    w_month = 1.0\n",
    "    w_day = 1.0\n",
    "    w_vector_distance = 1.0\n",
    "    \n",
    "    # Process the date\n",
    "    #date = [all_articles[article_index_1][0][5:], all_articles[article_index_2][0][5:]]\n",
    "    #date = [d.split(\"-\") for d in date]\n",
    "    \n",
    "    score += ((float(all_dates[article_index_1][0]) - float(all_dates[article_index_2][0])) * w_year)\n",
    "    score += ((float(all_dates[article_index_1][1]) - float(all_dates[article_index_2][1])) * w_month)\n",
    "    score += ((float(all_dates[article_index_1][2]) - float(all_dates[article_index_2][2])) * w_day)\n",
    "    score += ((one_hot_distance[article_index_1] - one_hot_distance[article_index_2]) * w_vector_distance)\n",
    "\n",
    "    return score >= 0"
   ]
  },
  {
   "cell_type": "code",
   "execution_count": 159,
   "metadata": {
    "collapsed": false
   },
   "outputs": [
    {
     "data": {
      "text/plain": [
       "True"
      ]
     },
     "execution_count": 159,
     "metadata": {},
     "output_type": "execute_result"
    }
   ],
   "source": [
    "compare(38, 39)"
   ]
  },
  {
   "cell_type": "code",
   "execution_count": 160,
   "metadata": {
    "collapsed": false
   },
   "outputs": [
    {
     "name": "stdout",
     "output_type": "stream",
     "text": [
      "[0, 1, 2, 3, 4, 5, 6, 7, 8, 9, 10, 11, 12, 13, 14, 15, 16, 17, 18, 19, 20, 21, 22, 23, 24, 25, 26, 27, 28, 29, 30, 31, 32, 33, 34, 35, 36, 37, 38, 39]\n",
      "[0, 1, 2, 3, 4, 5, 6, 9, 8, 7, 10, 11, 12, 14, 13, 15, 16, 17, 18, 19, 21, 20, 22, 23, 24, 25, 26, 27, 28, 31, 30, 29, 32, 33, 34, 35, 37, 36, 39, 38]\n",
      "['data/17-4-24', 'data/17-4-27', 'data/17-5-1', 'data/17-5-10', 'data/17-5-19', 'data/17-5-24', 'data/17-5-5', 'data/17-6-13', 'data/17-7-1', 'data/17-7-1-2', 'data/17-7-13', 'data/17-7-18', 'data/17-7-18-2', 'data/17-7-18-3', 'data/17-7-18-4', 'data/17-7-19', 'data/17-7-19-2', 'data/17-7-19-3', 'data/17-7-19-4', 'data/17-7-19-5', 'data/17-7-24', 'data/17-7-24-2', 'data/17-7-24-3', 'data/17-7-28', 'data/17-7-30', 'data/17-7-30-2', 'data/17-7-30-3', 'data/17-7-31', 'data/17-8-1', 'data/17-8-17', 'data/17-8-2', 'data/17-8-2-2', 'data/17-8-2-3', 'data/17-8-28', 'data/17-8-3', 'data/17-8-3-2', 'data/17-8-31', 'data/17-8-4', 'data/17-8-4-2', 'data/17-9-1']\n"
     ]
    }
   ],
   "source": [
    "sorted_article_indices = [i for i in range(len(all_articles))]\n",
    "print(sorted_article_indices)\n",
    "\n",
    "for i in range(len(all_articles)):\n",
    "    for j in range(len(all_articles) - i - 1):\n",
    "        if (compare(j, j+1)):\n",
    "            sorted_article_indices[j], sorted_article_indices[j+1] = sorted_article_indices[j+1], sorted_article_indices[j]\n",
    "\n",
    "print(sorted_article_indices)\n",
    "print([all_articles[sorted_article_indices[i]][0] for i in sorted_article_indices])"
   ]
  },
  {
   "cell_type": "markdown",
   "metadata": {},
   "source": [
    "# Check for additional topics"
   ]
  },
  {
   "cell_type": "code",
   "execution_count": 161,
   "metadata": {
    "collapsed": false
   },
   "outputs": [
    {
     "name": "stdout",
     "output_type": "stream",
     "text": [
      "Article data/17-5-19\n",
      "How many topics will be added: 57\n",
      "Article data/17-5-5\n",
      "How many topics will be added: 43\n",
      "Article data/17-7-1-2\n",
      "How many topics will be added: 40\n",
      "Article data/17-7-18\n",
      "How many topics will be added: 30\n",
      "Article data/17-7-18-3\n",
      "How many topics will be added: 110\n",
      "Article data/17-7-19\n",
      "How many topics will be added: 54\n",
      "Article data/17-7-19-4\n",
      "How many topics will be added: 35\n",
      "Article data/17-7-24\n",
      "How many topics will be added: 40\n",
      "Article data/17-7-30-3\n",
      "How many topics will be added: 45\n",
      "Article data/17-8-2-2\n",
      "How many topics will be added: 94\n",
      "Article data/17-8-17\n",
      "How many topics will be added: 52\n",
      "Article data/17-8-2-3\n",
      "How many topics will be added: 139\n",
      "Article data/17-8-3\n",
      "How many topics will be added: 31\n",
      "Article data/17-8-31\n",
      "How many topics will be added: 169\n",
      "Article data/17-9-1\n",
      "How many topics will be added: 92\n"
     ]
    }
   ],
   "source": [
    "accum_topics = seed_keychunks\n",
    "\n",
    "for i in range(len(sorted_article_indices)):\n",
    "    if is_selected[i] == 1:\n",
    "        print(\"Article \" + str(all_articles[sorted_article_indices[i]][0]) + \"\\nHow many topics will be added: \" + str(len(set(all_keychunks[sorted_article_indices[i]]) - set(accum_topics))))\n",
    "        accum_topics = list(set(accum_topics) | set(all_keychunks[sorted_article_indices[i]]))"
   ]
  },
  {
   "cell_type": "code",
   "execution_count": 162,
   "metadata": {
    "collapsed": false
   },
   "outputs": [
    {
     "ename": "NameError",
     "evalue": "name 'NaturalLanguageUnderstandingV1' is not defined",
     "output_type": "error",
     "traceback": [
      "\u001b[0;31m---------------------------------------------------------------------------\u001b[0m",
      "\u001b[0;31mNameError\u001b[0m                                 Traceback (most recent call last)",
      "\u001b[0;32m<ipython-input-162-d2b90da17853>\u001b[0m in \u001b[0;36m<module>\u001b[0;34m()\u001b[0m\n\u001b[0;32m----> 1\u001b[0;31m natural_language_understanding = NaturalLanguageUnderstandingV1(\n\u001b[0m\u001b[1;32m      2\u001b[0m   \u001b[0musername\u001b[0m\u001b[0;34m=\u001b[0m\u001b[0;34m'fd9d2f6e-194a-4872-bc99-4d7b617b5e74'\u001b[0m\u001b[0;34m,\u001b[0m\u001b[0;34m\u001b[0m\u001b[0m\n\u001b[1;32m      3\u001b[0m   \u001b[0mpassword\u001b[0m\u001b[0;34m=\u001b[0m\u001b[0;34m'WnJkJKOk2bIw'\u001b[0m\u001b[0;34m,\u001b[0m\u001b[0;34m\u001b[0m\u001b[0m\n\u001b[1;32m      4\u001b[0m   version='2017-02-27')\n\u001b[1;32m      5\u001b[0m \u001b[0;31m#\"url\": \"https://gateway.watsonplatform.net/natural-language-understanding/api\",\u001b[0m\u001b[0;34m\u001b[0m\u001b[0;34m\u001b[0m\u001b[0m\n",
      "\u001b[0;31mNameError\u001b[0m: name 'NaturalLanguageUnderstandingV1' is not defined"
     ]
    }
   ],
   "source": [
    "natural_language_understanding = NaturalLanguageUnderstandingV1(\n",
    "  username='fd9d2f6e-194a-4872-bc99-4d7b617b5e74',\n",
    "  password='WnJkJKOk2bIw',\n",
    "  version='2017-02-27')\n",
    "#\"url\": \"https://gateway.watsonplatform.net/natural-language-understanding/api\",\n",
    "#  \"username\": \"fd9d2f6e-194a-4872-bc99-4d7b617b5e74\",\n",
    "#  \"password\": \"WnJkJKOk2bIw\""
   ]
  }
 ],
 "metadata": {
  "anaconda-cloud": {},
  "kernelspec": {
   "display_name": "Python [default]",
   "language": "python",
   "name": "python2"
  },
  "language_info": {
   "codemirror_mode": {
    "name": "ipython",
    "version": 2
   },
   "file_extension": ".py",
   "mimetype": "text/x-python",
   "name": "python",
   "nbconvert_exporter": "python",
   "pygments_lexer": "ipython2",
   "version": "2.7.12"
  }
 },
 "nbformat": 4,
 "nbformat_minor": 1
}
