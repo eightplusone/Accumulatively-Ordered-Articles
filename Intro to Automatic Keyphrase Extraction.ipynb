{
 "cells": [
  {
   "cell_type": "code",
   "execution_count": 14,
   "metadata": {
    "collapsed": true
   },
   "outputs": [],
   "source": [
    "def extract_candidate_chunks(text, grammar=r'KT: {(<JJ>* <NN.*>+ <IN>)? <JJ>* <NN.*>+}'):\n",
    "    import itertools, nltk, string\n",
    "    \n",
    "    # exclude candidates that are stop words or entirely punctuation\n",
    "    punct = set(string.punctuation)\n",
    "    stop_words = set(nltk.corpus.stopwords.words('english'))\n",
    "    # tokenize, POS-tag, and chunk using regular expressions\n",
    "    chunker = nltk.chunk.regexp.RegexpParser(grammar)\n",
    "    tagged_sents = nltk.pos_tag_sents(nltk.word_tokenize(sent) for sent in nltk.sent_tokenize(text))\n",
    "    all_chunks = list(itertools.chain.from_iterable(nltk.chunk.tree2conlltags(chunker.parse(tagged_sent))\n",
    "                                                    for tagged_sent in tagged_sents))\n",
    "    # join constituent chunk words into a single chunked phrase\n",
    "    candidates = [' '.join(word for word, pos, chunk in group).lower()\n",
    "                  for key, group in itertools.groupby(all_chunks, lambda (word,pos,chunk): chunk != 'O') if key]\n",
    "\n",
    "    print(len(candidates))\n",
    "    candidates.sort()\n",
    "\n",
    "    return [cand for cand in candidates\n",
    "            if cand not in stop_words and not all(char in punct for char in cand)]"
   ]
  },
  {
   "cell_type": "code",
   "execution_count": 15,
   "metadata": {
    "collapsed": false
   },
   "outputs": [
    {
     "name": "stdout",
     "output_type": "stream",
     "text": [
      "97\n"
     ]
    },
    {
     "data": {
      "text/plain": [
       "[\"'feels\",\n",
       " \"'tense relationship\",\n",
       " '20-year-old atalanta midfielder',\n",
       " 'adjacent sun story about danny dyer',\n",
       " 'agent of frank',\n",
       " 'alexis sanchez',\n",
       " 'arsenal',\n",
       " 'arsenal contract rebel',\n",
       " 'attention',\n",
       " 'bbc',\n",
       " 'belief',\n",
       " 'belief of real madrid president florentino perez',\n",
       " 'benzema',\n",
       " 'boost',\n",
       " 'bottomless vacuum of pointless rumour-mongering',\n",
       " 'chelsea',\n",
       " 'chilean paper cooperativa reporting',\n",
       " 'club',\n",
       " 'contract',\n",
       " 'conversation hot football transfer gossip',\n",
       " 'cool',\n",
       " 'cristiano ronaldo',\n",
       " 'daily express',\n",
       " 'deep breaths\\xe2\\x80\\xa6',\n",
       " 'dignity',\n",
       " 'disease',\n",
       " 'don balon',\n",
       " 'everton\\xe2\\x80\\x99s romelu lukaku',\n",
       " 'express',\n",
       " 'faltering form',\n",
       " 'few clubs',\n",
       " 'few months',\n",
       " 'few teams',\n",
       " 'gareth bale',\n",
       " 'good news for united',\n",
       " 'hot football transfer gossip\\xe2\\x80\\x99s eye',\n",
       " 'idea',\n",
       " 'injustice',\n",
       " 'jose mourinho',\n",
       " 'karim benzema',\n",
       " 'kessie',\n",
       " 'lionel messi',\n",
       " 'liverpool',\n",
       " 'lives',\n",
       " 'major signings',\n",
       " 'man utd',\n",
       " 'manchester city',\n",
       " 'manchester evening news',\n",
       " 'many lives',\n",
       " 'marca',\n",
       " 'mirror',\n",
       " 'monday morning',\n",
       " 'monkeys',\n",
       " 'move from atletico madrid',\n",
       " 'new contract',\n",
       " 'neymar',\n",
       " 'neymar',\n",
       " 'neymar',\n",
       " 'neymar',\n",
       " 'nou camp',\n",
       " 'one',\n",
       " 'one',\n",
       " 'pep guardiola',\n",
       " 'phil',\n",
       " 'plan',\n",
       " 'pursuit of antoine griezmann',\n",
       " 'race',\n",
       " 'real',\n",
       " 'real madrid defensive legend pepe',\n",
       " 'real president perez',\n",
       " 'reason',\n",
       " 'recent attacking displays',\n",
       " 'red devils',\n",
       " 'remember',\n",
       " 'sanity',\n",
       " 'several clubs',\n",
       " 'side',\n",
       " 'signs for manchester united',\n",
       " 'sorry\\xe2\\x80\\xa6 man utd',\n",
       " 'speculation',\n",
       " 'steve mcfadden aka phil mitchell',\n",
       " 'summer',\n",
       " 'summer',\n",
       " 'sun',\n",
       " 'title-winning team',\n",
       " 'torino striker andrea belotti',\n",
       " 'umm',\n",
       " 'unhappiness with barca',\n",
       " 'way',\n",
       " 'woah',\n",
       " 'worthwhile contributions',\n",
       " 'yaya toure',\n",
       " 'year on eastenders \\xe2\\x80\\x93',\n",
       " 'years of sterling service',\n",
       " '\\xc2\\xa3170m release clause',\n",
       " '\\xc2\\xa350m',\n",
       " '\\xe2\\x80\\x93']"
      ]
     },
     "execution_count": 15,
     "metadata": {},
     "output_type": "execute_result"
    }
   ],
   "source": [
    "text = \"If Neymar never ever signs for Manchester United, imagine how many lives would have been wasted speculating on whether he might. Lives that could have been spent making worthwhile contributions to society – curing disease, fighting injustice, cuddling orphaned monkeys - but were instead sucked into a bottomless vacuum of pointless rumour-mongering that helped no one. Actually, this is not even a conversation Hot Football Transfer Gossip wants to get involved in on a Monday morning. It's too distressing. Instead, let's turn our attention to the Daily Express, which says that Neymar could be on his way to Man Utd. Woah, cool! This is not strictly the belief of the Express, but the belief of Real Madrid president Florentino Perez, who reportedly 'feels' that Neymar has a Nou Camp 'escape plan', due to his unhappiness with Barca's faltering form and his 'tense relationship' with Lionel Messi. The reason this is good news for United is that they are 'one of the few teams who would be able to afford him'. Or, at least, one of the few clubs willing to meet his £170m release clause. Remember, the one that was inserted when Neymar signed a new contract a few months ago. The contract that was supposed to end all this speculation and help us regain our sanity and our dignity. Remember THAT? Deep breaths… Moving on, the Red Devils have also received a boost in their pursuit of Antoine Griezmann after he appeared to rule out a move from Atletico Madrid to rivals Real, describing the idea as 'dead' (Sun). Hot Football Transfer Gossip’s eye was also caught by a adjacent Sun story about Danny Dyer earning £400,000 a year on EastEnders – £100,000 more than Steve McFadden aka Phil Mitchell. That's outrageous! Phil doesn't deserve that after all his years of sterling service. Umm, sorry… Man Utd are also keen on Everton’s Romelu Lukaku and Torino striker Andrea Belotti, with Jose Mourinho admitting he is 'very far' from assembling a title-winning team and prepared to make four major signings this summer (Manchester Evening News). Meanwhile, Manchester City are the latest club described as 'leading the race' to sign Alexis Sanchez, with Chilean paper Cooperativa reporting that Pep Guardiola is prepared to shell out £50m for the Arsenal contract rebel. Elsewhere, the agent of Frank 'new Yaya Toure' Kessie says Liverpool and Arsenal are keen on the 20-year-old Atalanta midfielder (Mirror), Chelsea are one of several clubs interested in signing Real Madrid defensive legend Pepe (Marca) and Real president Perez is so concerned with the side's recent attacking displays that he is planning to sell either Gareth Bale or Karim Benzema or Cristiano Ronaldo (aka the BBC) in the summer (Don Balon). That'll be Benzema then.\"\n",
    "\n",
    "extract_candidate_chunks(text)"
   ]
  }
 ],
 "metadata": {
  "anaconda-cloud": {},
  "kernelspec": {
   "display_name": "Python [default]",
   "language": "python",
   "name": "python2"
  },
  "language_info": {
   "codemirror_mode": {
    "name": "ipython",
    "version": 2
   },
   "file_extension": ".py",
   "mimetype": "text/x-python",
   "name": "python",
   "nbconvert_exporter": "python",
   "pygments_lexer": "ipython2",
   "version": "2.7.12"
  }
 },
 "nbformat": 4,
 "nbformat_minor": 1
}
